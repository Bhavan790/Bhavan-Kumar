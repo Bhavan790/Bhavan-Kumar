{
 "cells": [
  {
   "cell_type": "code",
   "execution_count": 17,
   "id": "61be873c-1022-4643-8b2a-687760f72887",
   "metadata": {},
   "outputs": [
    {
     "name": "stdout",
     "output_type": "stream",
     "text": [
      "    EMP ID           EMP NAME DATE OF JOIN LAST LOGIN  SALARY SENIOR OR NOT  \\\n",
      "0     1001       Dallas Wiley    4/10/2025     1.00pm   46545            No   \n",
      "1     1002       Mathew Small    3/11/1986     2.55pm   76645           Yes   \n",
      "2     1003       Zaria Bernal     4/4/2023     7.00am   28093            No   \n",
      "3     1004   Eithan Castaneda    5/12/2024    10.30pm   25510            No   \n",
      "4     1005     Keira Clements     6/8/1998    11.00am   30466           Yes   \n",
      "5     1006     Fisher Watkins     3/6/2024     5.00pm    9814            No   \n",
      "6     1107         Lola Logan     9/5/2024    12.00am   24745            No   \n",
      "7     1008        Rocco Chang    7/30/2020     3.00pm   16734            No   \n",
      "8     1009    Ophelia Watkins    4/18/2001     2.50pm   28803           Yes   \n",
      "9     1010          Nash Howe    11/5/2024     4.55am    7369            No   \n",
      "10    1011  Persephone Little    11/2/2025     5.34am   24695            No   \n",
      "11    1012     Lennox Fleming     4/5/2024     6.40pm    7209            No   \n",
      "12    1013      Fatima Baxter     3/5/2010    11.12pm   28690           Yes   \n",
      "13    1014         Tomas Ruiz     6/3/1934    12.10pm    6222           Yes   \n",
      "14    1015       Emery Avalos    11/3/2024     4.56pm   28788            No   \n",
      "15    1016         Coen Noble     4/1/2025     7.00am   25665            No   \n",
      "16    1017        Hunter Bush    12/9/2024     8.00pm    2437            No   \n",
      "17    1018     Tyson Lawrence     6/7/2024     4.46am   24496            No   \n",
      "18    1019      Lauren Dorsey    6/10/2024    12.38pm   10181            No   \n",
      "19    1020         Enoch Bass     3/8/2020     1.25am   20992            No   \n",
      "20    1021         Zahra Tate     3/6/1999     2.25pm   30871           Yes   \n",
      "21    1022        Dalton Wood     9/9/2019     6.40pm   30559           Yes   \n",
      "22    1023     Natalia Ibarra    5/12/1998     7.20am    5265           Yes   \n",
      "23    1024        Asa Griffin    12/3/2001     9.30am   21543           Yes   \n",
      "24    1025     Charlie Wilcox     4/7/2024     7.40pm  204344            No   \n",
      "\n",
      "   GENDER  \n",
      "0       M  \n",
      "1       F  \n",
      "2       M  \n",
      "3       M  \n",
      "4       M  \n",
      "5       F  \n",
      "6       F  \n",
      "7       M  \n",
      "8       M  \n",
      "9       M  \n",
      "10      M  \n",
      "11      F  \n",
      "12      M  \n",
      "13      M  \n",
      "14      M  \n",
      "15      M  \n",
      "16      M  \n",
      "17      F  \n",
      "18      F  \n",
      "19      F  \n",
      "20      M  \n",
      "21      M  \n",
      "22      F  \n",
      "23      M  \n",
      "24      M  \n"
     ]
    }
   ],
   "source": [
    "import pandas as pd\n",
    "a=pd.read_csv(\"emp\")\n",
    "print(a)"
   ]
  },
  {
   "cell_type": "code",
   "execution_count": 27,
   "id": "dbda1ea6-0620-44a1-95a9-ea756e086444",
   "metadata": {},
   "outputs": [
    {
     "name": "stdout",
     "output_type": "stream",
     "text": [
      "    EMP ID           EMP NAME DATE OF JOIN LAST LOGIN  SALARY SENIOR OR NOT  \\\n",
      "0     1001       Dallas Wiley   2025-04-10     1.00pm   46545            No   \n",
      "1     1002       Mathew Small   1986-03-11     2.55pm   76645           Yes   \n",
      "2     1003       Zaria Bernal   2023-04-04     7.00am   28093            No   \n",
      "3     1004   Eithan Castaneda   2024-05-12    10.30pm   25510            No   \n",
      "4     1005     Keira Clements   1998-06-08    11.00am   30466           Yes   \n",
      "5     1006     Fisher Watkins   2024-03-06     5.00pm    9814            No   \n",
      "6     1107         Lola Logan   2024-09-05    12.00am   24745            No   \n",
      "7     1008        Rocco Chang   2020-07-30     3.00pm   16734            No   \n",
      "8     1009    Ophelia Watkins   2001-04-18     2.50pm   28803           Yes   \n",
      "9     1010          Nash Howe   2024-11-05     4.55am    7369            No   \n",
      "10    1011  Persephone Little   2025-11-02     5.34am   24695            No   \n",
      "11    1012     Lennox Fleming   2024-04-05     6.40pm    7209            No   \n",
      "12    1013      Fatima Baxter   2010-03-05    11.12pm   28690           Yes   \n",
      "13    1014         Tomas Ruiz   1934-06-03    12.10pm    6222           Yes   \n",
      "14    1015       Emery Avalos   2024-11-03     4.56pm   28788            No   \n",
      "15    1016         Coen Noble   2025-04-01     7.00am   25665            No   \n",
      "16    1017        Hunter Bush   2024-12-09     8.00pm    2437            No   \n",
      "17    1018     Tyson Lawrence   2024-06-07     4.46am   24496            No   \n",
      "18    1019      Lauren Dorsey   2024-06-10    12.38pm   10181            No   \n",
      "19    1020         Enoch Bass   2020-03-08     1.25am   20992            No   \n",
      "20    1021         Zahra Tate   1999-03-06     2.25pm   30871           Yes   \n",
      "21    1022        Dalton Wood   2019-09-09     6.40pm   30559           Yes   \n",
      "22    1023     Natalia Ibarra   1998-05-12     7.20am    5265           Yes   \n",
      "23    1024        Asa Griffin   2001-12-03     9.30am   21543           Yes   \n",
      "24    1025     Charlie Wilcox   2024-04-07     7.40pm  204344            No   \n",
      "\n",
      "   GENDER  \n",
      "0       M  \n",
      "1       F  \n",
      "2       M  \n",
      "3       M  \n",
      "4       M  \n",
      "5       F  \n",
      "6       F  \n",
      "7       M  \n",
      "8       M  \n",
      "9       M  \n",
      "10      M  \n",
      "11      F  \n",
      "12      M  \n",
      "13      M  \n",
      "14      M  \n",
      "15      M  \n",
      "16      M  \n",
      "17      F  \n",
      "18      F  \n",
      "19      F  \n",
      "20      M  \n",
      "21      M  \n",
      "22      F  \n",
      "23      M  \n",
      "24      M  \n"
     ]
    }
   ],
   "source": [
    "b=pd.read_excel(\"ex emp.xlsx\")\n",
    "print(b)"
   ]
  },
  {
   "cell_type": "code",
   "execution_count": 37,
   "id": "c0cf24b5-cef1-4990-b7a9-67b729b839de",
   "metadata": {},
   "outputs": [
    {
     "name": "stdout",
     "output_type": "stream",
     "text": [
      "columns Index(['EMP ID', 'EMP NAME', 'DATE OF JOIN', 'LAST LOGIN', 'SALARY',\n",
      "       'SENIOR OR NOT', 'GENDER'],\n",
      "      dtype='object')\n",
      "(25, 7)\n"
     ]
    }
   ],
   "source": [
    "c=pd.DataFrame(a)\n",
    "print(\"columns\",c.columns)\n",
    "print(c.shape)"
   ]
  },
  {
   "cell_type": "raw",
   "id": "59fb9863-cd09-4152-8e4f-0104b6530349",
   "metadata": {},
   "source": [
    "print(\"EMP NAME \\n\",b['EMP NAME'])"
   ]
  },
  {
   "cell_type": "code",
   "execution_count": 46,
   "id": "41d26d52-39ab-4e7e-9e43-de7adba87e87",
   "metadata": {},
   "outputs": [
    {
     "name": "stdout",
     "output_type": "stream",
     "text": [
      "   EMP ID      EMP NAME DATE OF JOIN LAST LOGIN  SALARY SENIOR OR NOT GENDER\n",
      "1    1002  Mathew Small   1986-03-11     2.55pm   76645           Yes      F\n"
     ]
    }
   ],
   "source": [
    "print(b[1:2])"
   ]
  },
  {
   "cell_type": "code",
   "execution_count": 48,
   "id": "3dfbb494-77f2-48b4-b219-c10c85239e0a",
   "metadata": {},
   "outputs": [
    {
     "name": "stdout",
     "output_type": "stream",
     "text": [
      "EMP ID                          1006\n",
      "EMP NAME              Fisher Watkins\n",
      "DATE OF JOIN     2024-03-06 00:00:00\n",
      "LAST LOGIN                    5.00pm\n",
      "SALARY                          9814\n",
      "SENIOR OR NOT                     No\n",
      "GENDER                             F\n",
      "Name: 5, dtype: object\n"
     ]
    }
   ],
   "source": [
    "print(b.loc[5])"
   ]
  },
  {
   "cell_type": "code",
   "execution_count": 58,
   "id": "613d9cbb-ee99-455c-aeb6-dba394effc31",
   "metadata": {},
   "outputs": [
    {
     "name": "stdout",
     "output_type": "stream",
     "text": [
      "   EMP ID   EMP NAME DATE OF JOIN LAST LOGIN  SALARY SENIOR OR NOT GENDER\n",
      "9    1010  Nash Howe    11/5/2024     4.55am    7369            No      M\n"
     ]
    }
   ],
   "source": [
    "print(a.loc[b['SALARY']==7369])"
   ]
  },
  {
   "cell_type": "code",
   "execution_count": 56,
   "id": "3e28606a-e310-4ce1-8738-43008ed7390a",
   "metadata": {},
   "outputs": [
    {
     "name": "stdout",
     "output_type": "stream",
     "text": [
      "0      46.591592\n",
      "1      76.721722\n",
      "2      28.121121\n",
      "3      25.535536\n",
      "4      30.496496\n",
      "5       9.823824\n",
      "6      24.769770\n",
      "7      16.750751\n",
      "8      28.831832\n",
      "9       7.376376\n",
      "10     24.719720\n",
      "11      7.216216\n",
      "12     28.718719\n",
      "13      6.228228\n",
      "14     28.816817\n",
      "15     25.690691\n",
      "16      2.439439\n",
      "17     24.520521\n",
      "18     10.191191\n",
      "19     21.013013\n",
      "20     30.901902\n",
      "21     30.589590\n",
      "22      5.270270\n",
      "23     21.564565\n",
      "24    204.548549\n",
      "Name: SALARY, dtype: float64\n"
     ]
    }
   ],
   "source": [
    "print(b['SALARY']/999)"
   ]
  },
  {
   "cell_type": "code",
   "execution_count": null,
   "id": "252ff4af-0b1b-44ac-aeaf-a2332d82bb42",
   "metadata": {},
   "outputs": [],
   "source": []
  }
 ],
 "metadata": {
  "kernelspec": {
   "display_name": "Python [conda env:base] *",
   "language": "python",
   "name": "conda-base-py"
  },
  "language_info": {
   "codemirror_mode": {
    "name": "ipython",
    "version": 3
   },
   "file_extension": ".py",
   "mimetype": "text/x-python",
   "name": "python",
   "nbconvert_exporter": "python",
   "pygments_lexer": "ipython3",
   "version": "3.12.7"
  }
 },
 "nbformat": 4,
 "nbformat_minor": 5
}
