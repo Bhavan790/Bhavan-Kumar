{
 "cells": [
  {
   "cell_type": "code",
   "execution_count": 1,
   "id": "9327cc4c-2324-40a3-9792-c811fea9bb09",
   "metadata": {},
   "outputs": [
    {
     "name": "stdout",
     "output_type": "stream",
     "text": [
      "      NAME  ID\n",
      "0   bhavan   1\n",
      "1   bhavya   2\n",
      "2  bharath   3\n"
     ]
    }
   ],
   "source": [
    "import pandas as pd\n",
    "emp = pd.Series(['bhavan', 'bhavya', 'bharath'])\n",
    "i = pd.Series([1, 2, 3])\n",
    "f = {'NAME': emp, 'ID': i}\n",
    "r=pd.DataFrame(f)\n",
    "print(r)"
   ]
  },
  {
   "cell_type": "code",
   "execution_count": 3,
   "id": "4f6b1987-00ea-406c-8734-aaeaf3a417b1",
   "metadata": {},
   "outputs": [
    {
     "name": "stdout",
     "output_type": "stream",
     "text": [
      "\n",
      " Extract one colum :\n",
      "\n",
      "0     bhavan\n",
      "1     bhavya\n",
      "2    bharath\n",
      "Name: NAME, dtype: object\n",
      "\n",
      " Addiing new column :\n",
      "\n",
      "      NAME  ID  AGE\n",
      "0   bhavan  80   28\n",
      "1   bhavya  90   38\n",
      "2  bharath  70   48\n"
     ]
    }
   ],
   "source": [
    "print(\"\\n Extract one colum :\\n\")\n",
    "print(r['NAME'])\n",
    "print(\"\\n Addiing new column :\\n\")\n",
    "r['ID']=pd.Series([80,90,70])\n",
    "r['AGE']=pd.Series([28,38,48])\n",
    "print(r)"
   ]
  },
  {
   "cell_type": "code",
   "execution_count": 5,
   "id": "16ac06e7-e776-4d25-9c11-17481c44216e",
   "metadata": {},
   "outputs": [
    {
     "name": "stdout",
     "output_type": "stream",
     "text": [
      "\n",
      " Deleting new column : \n",
      "\n",
      "      NAME  ID\n",
      "0   bhavan  80\n",
      "1   bhavya  90\n",
      "2  bharath  70\n",
      "\n",
      " Extracting the second row : \n",
      "\n",
      "NAME    bhavya\n",
      "ID          90\n",
      "Name: 1, dtype: object\n",
      "\n",
      " Slice rows :\n",
      "       NAME  ID\n",
      "1   bhavya  90\n",
      "2  bharath  70\n"
     ]
    }
   ],
   "source": [
    "print(\"\\n Deleting new column : \\n\")\n",
    "del r['AGE']\n",
    "print(r)\n",
    "print(\"\\n Extracting the second row : \\n\")\n",
    "print(r.loc[1])\n",
    "print(\"\\n Slice rows :\\n\",r[1:4])"
   ]
  },
  {
   "cell_type": "code",
   "execution_count": 15,
   "id": "4d5c4e72-2a3b-4a6b-97be-027af8df152c",
   "metadata": {},
   "outputs": [
    {
     "name": "stdout",
     "output_type": "stream",
     "text": [
      "\n",
      " Adding new row values :\n",
      "       NAME   ID\n",
      "0   bhavan   80\n",
      "1   bhavya   90\n",
      "2  bharath   70\n",
      "0      vic  100\n",
      "1     rash  110\n",
      "\n",
      " Deleting particular row :\n",
      "      NAME  ID\n",
      "0  bhavan  80\n",
      "1  bhavya  90\n",
      "NAME    bhavya\n",
      "ID          90\n",
      "Name: 1, dtype: object\n",
      "\n",
      " Slice rows :\n",
      "        NAME  ID\n",
      "1   bhavya  90\n",
      "2  bharath  70\n"
     ]
    }
   ],
   "source": [
    "x=pd.DataFrame([['vic',100],['rash',110]],columns=['NAME','ID'])\n",
    "print(\"\\n Adding new row values :\\n\",pd.concat([r,x]))\n",
    "print(\"\\n Deleting particular row :\\n\",r.drop(2))\n",
    "print(r.loc[1])\n",
    "print(\"\\n Slice rows :\\n \",r[1:4])"
   ]
  },
  {
   "cell_type": "code",
   "execution_count": null,
   "id": "a66d4529-8aa1-4663-a419-acd710ec2f47",
   "metadata": {},
   "outputs": [],
   "source": []
  }
 ],
 "metadata": {
  "kernelspec": {
   "display_name": "Python [conda env:base] *",
   "language": "python",
   "name": "conda-base-py"
  },
  "language_info": {
   "codemirror_mode": {
    "name": "ipython",
    "version": 3
   },
   "file_extension": ".py",
   "mimetype": "text/x-python",
   "name": "python",
   "nbconvert_exporter": "python",
   "pygments_lexer": "ipython3",
   "version": "3.12.7"
  }
 },
 "nbformat": 4,
 "nbformat_minor": 5
}
