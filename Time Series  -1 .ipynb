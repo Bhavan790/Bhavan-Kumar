{
 "cells": [
  {
   "cell_type": "code",
   "execution_count": 2,
   "id": "163608f9-bee5-4fc0-8e8e-e01216048584",
   "metadata": {},
   "outputs": [
    {
     "name": "stdout",
     "output_type": "stream",
     "text": [
      "2025-04-07 09:14:00.147945\n"
     ]
    }
   ],
   "source": [
    "import datetime \n",
    "a=datetime.datetime.now()\n",
    "print(a)"
   ]
  },
  {
   "cell_type": "code",
   "execution_count": 4,
   "id": "989f7b13-0191-42a0-8042-0b78ce5da362",
   "metadata": {},
   "outputs": [
    {
     "name": "stdout",
     "output_type": "stream",
     "text": [
      "2025-04-07 09:14:30.132236\n"
     ]
    }
   ],
   "source": [
    "b=datetime.datetime.today()\n",
    "print(b)"
   ]
  },
  {
   "cell_type": "code",
   "execution_count": 16,
   "id": "e8a04b52-18e1-481b-b20a-5d28a8e9f980",
   "metadata": {},
   "outputs": [
    {
     "name": "stdout",
     "output_type": "stream",
     "text": [
      "2025-04-10 09:14:30.132236\n"
     ]
    }
   ],
   "source": [
    "today=b+datetime.timedelta(days=3)\n",
    "print(today)"
   ]
  },
  {
   "cell_type": "code",
   "execution_count": 20,
   "id": "351ab59e-48cf-48c4-96fb-7255ee940532",
   "metadata": {},
   "outputs": [
    {
     "name": "stdout",
     "output_type": "stream",
     "text": [
      "2025-04-06 09:14:30.132236\n"
     ]
    }
   ],
   "source": [
    "y=b-datetime.timedelta(days=1)\n",
    "print(y)"
   ]
  },
  {
   "cell_type": "code",
   "execution_count": 28,
   "id": "33f6fa16-abd2-4478-a00c-a655963051f5",
   "metadata": {},
   "outputs": [
    {
     "name": "stdout",
     "output_type": "stream",
     "text": [
      "2025-04-05 2025-04-01\n"
     ]
    }
   ],
   "source": [
    "from datetime import date\n",
    "d=date(2025,4,5)\n",
    "print(d,d.replace(day=1))"
   ]
  },
  {
   "cell_type": "code",
   "execution_count": 30,
   "id": "6e00cbc9-014d-4514-b8e3-a3c00eb050c3",
   "metadata": {},
   "outputs": [
    {
     "name": "stdout",
     "output_type": "stream",
     "text": [
      "Sat Apr  5 00:00:00 2025 2025-04-05\n"
     ]
    }
   ],
   "source": [
    "t=date(2025,4,5).ctime()\n",
    "print(t,d)"
   ]
  },
  {
   "cell_type": "code",
   "execution_count": 32,
   "id": "7a66c7f4-2a0d-438e-99ec-4e64e835f5fb",
   "metadata": {},
   "outputs": [
    {
     "name": "stdout",
     "output_type": "stream",
     "text": [
      "2025-04-07\n",
      "2025\n",
      "4\n",
      "7\n"
     ]
    }
   ],
   "source": [
    "p=date.today()\n",
    "print(p)\n",
    "print(p.year)\n",
    "print(p.month)\n",
    "print(p.day)"
   ]
  },
  {
   "cell_type": "code",
   "execution_count": null,
   "id": "b2852534-ebb7-40fe-a098-b8c4bcf9f4dd",
   "metadata": {},
   "outputs": [],
   "source": []
  }
 ],
 "metadata": {
  "kernelspec": {
   "display_name": "Python [conda env:base] *",
   "language": "python",
   "name": "conda-base-py"
  },
  "language_info": {
   "codemirror_mode": {
    "name": "ipython",
    "version": 3
   },
   "file_extension": ".py",
   "mimetype": "text/x-python",
   "name": "python",
   "nbconvert_exporter": "python",
   "pygments_lexer": "ipython3",
   "version": "3.12.2"
  }
 },
 "nbformat": 4,
 "nbformat_minor": 5
}
