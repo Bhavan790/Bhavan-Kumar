{
 "cells": [
  {
   "cell_type": "code",
   "execution_count": 1,
   "id": "4223f059",
   "metadata": {},
   "outputs": [
    {
     "name": "stdout",
     "output_type": "stream",
     "text": [
      "[ 1  2  3  4  5  6  7  8  9 10]\n"
     ]
    }
   ],
   "source": [
    "import numpy as np\n",
    "arr1=np.array([1,2,3,4,5,6,7,8,9,10])\n",
    "print(arr1)"
   ]
  },
  {
   "cell_type": "code",
   "execution_count": 23,
   "id": "166c8e3c",
   "metadata": {},
   "outputs": [
    {
     "name": "stdout",
     "output_type": "stream",
     "text": [
      "Type of array is :  int32\n"
     ]
    }
   ],
   "source": [
    "print(\"Type of array is : \",arr1.dtype)"
   ]
  },
  {
   "cell_type": "code",
   "execution_count": 26,
   "id": "18347eb7",
   "metadata": {},
   "outputs": [
    {
     "name": "stdout",
     "output_type": "stream",
     "text": [
      "Shape of array is :  (10,)\n"
     ]
    }
   ],
   "source": [
    "print(\"Shape of array is : \",arr1.shape)"
   ]
  },
  {
   "cell_type": "code",
   "execution_count": 25,
   "id": "51902c39",
   "metadata": {},
   "outputs": [
    {
     "name": "stdout",
     "output_type": "stream",
     "text": [
      "Size of the arary is :  10\n"
     ]
    }
   ],
   "source": [
    "print(\"Size of the arary is : \",arr1.size)"
   ]
  },
  {
   "cell_type": "code",
   "execution_count": 24,
   "id": "c4dd99d5",
   "metadata": {},
   "outputs": [
    {
     "name": "stdout",
     "output_type": "stream",
     "text": [
      "Dimension of array is :  1\n"
     ]
    }
   ],
   "source": [
    "print(\"Dimension of array is : \",arr1.ndim)"
   ]
  },
  {
   "cell_type": "code",
   "execution_count": 27,
   "id": "f0a2ca21",
   "metadata": {},
   "outputs": [
    {
     "name": "stdout",
     "output_type": "stream",
     "text": [
      "Length of array is :  10\n"
     ]
    }
   ],
   "source": [
    "print(\"Length of array is : \",len(arr1))"
   ]
  },
  {
   "cell_type": "code",
   "execution_count": 28,
   "id": "0cdcf036",
   "metadata": {},
   "outputs": [
    {
     "name": "stdout",
     "output_type": "stream",
     "text": [
      "Reversed array :  [10  9  8  7  6  5  4  3  2  1]\n"
     ]
    }
   ],
   "source": [
    "print(\"Reversed array : \",arr1[::-1])"
   ]
  },
  {
   "cell_type": "code",
   "execution_count": 29,
   "id": "4da50935",
   "metadata": {},
   "outputs": [
    {
     "name": "stdout",
     "output_type": "stream",
     "text": [
      "Sliced array :  [3 4 5 6 7 8]\n"
     ]
    }
   ],
   "source": [
    "print(\"Sliced array : \",arr1[2:8])"
   ]
  },
  {
   "cell_type": "code",
   "execution_count": 30,
   "id": "2f277fe0",
   "metadata": {},
   "outputs": [
    {
     "name": "stdout",
     "output_type": "stream",
     "text": [
      "Elements greater than 5 in array : [ 6  7  8  9 10]\n"
     ]
    }
   ],
   "source": [
    "print(\"Elements greater than 5 in array :\",arr1[arr1>5])"
   ]
  },
  {
   "cell_type": "code",
   "execution_count": 33,
   "id": "2cae5021",
   "metadata": {},
   "outputs": [
    {
     "name": "stdout",
     "output_type": "stream",
     "text": [
      "Origial array is :  [[ 3  1  4]\n",
      " [ 4  2  9]\n",
      " [10  6  2]\n",
      " [11  2  5]]\n"
     ]
    }
   ],
   "source": [
    "arr=np.array([[3,1,4],[4,2,9],[10,6,2],[11,2,5]])\n",
    "print(\"Origial array is : \",arr)"
   ]
  },
  {
   "cell_type": "code",
   "execution_count": 36,
   "id": "befd0eb4",
   "metadata": {},
   "outputs": [
    {
     "name": "stdout",
     "output_type": "stream",
     "text": [
      " \n",
      " Reshaped array is :\n",
      "  [[ 3  1  4]\n",
      " [ 4  2  9]\n",
      " [10  6  2]\n",
      " [11  2  5]]\n"
     ]
    }
   ],
   "source": [
    "print(\" \\n Reshaped array is :\\n \",arr.reshape(4,3))"
   ]
  },
  {
   "cell_type": "code",
   "execution_count": 41,
   "id": "fe0e9084",
   "metadata": {},
   "outputs": [
    {
     "name": "stdout",
     "output_type": "stream",
     "text": [
      " \n",
      " Sorted array is : \n",
      " [[ 1  3  4]\n",
      " [ 2  4  9]\n",
      " [ 2  6 10]\n",
      " [ 2  5 11]]\n"
     ]
    }
   ],
   "source": [
    "print(\" \\n Sorted array is : \\n\",np.sort(arr))"
   ]
  },
  {
   "cell_type": "code",
   "execution_count": 42,
   "id": "2cdd5dca",
   "metadata": {},
   "outputs": [
    {
     "name": "stdout",
     "output_type": "stream",
     "text": [
      " \n",
      " Sliced array is : \n",
      " [[ 2  6 10]\n",
      " [ 2  5 11]]\n"
     ]
    }
   ],
   "source": [
    "print(\" \\n Sliced array is : \\n\",arr[2:6])"
   ]
  },
  {
   "cell_type": "code",
   "execution_count": 43,
   "id": "c24e197c",
   "metadata": {},
   "outputs": [
    {
     "name": "stdout",
     "output_type": "stream",
     "text": [
      " \n",
      " Extracted rows : \n",
      " [1 2 2 2]\n"
     ]
    }
   ],
   "source": [
    "print(\" \\n Extracted 1st Column : \\n\",arr[:,0])"
   ]
  },
  {
   "cell_type": "code",
   "execution_count": 45,
   "id": "6be0919f",
   "metadata": {},
   "outputs": [
    {
     "name": "stdout",
     "output_type": "stream",
     "text": [
      "\n",
      " Extracted 1st row : \n",
      " [1 3 4]\n"
     ]
    }
   ],
   "source": [
    "print(\"\\n Extracted 1st row : \\n\",arr[0,:])"
   ]
  },
  {
   "cell_type": "code",
   "execution_count": null,
   "id": "ac32cde3",
   "metadata": {},
   "outputs": [],
   "source": []
  }
 ],
 "metadata": {
  "kernelspec": {
   "display_name": "Python 3 (ipykernel)",
   "language": "python",
   "name": "python3"
  },
  "language_info": {
   "codemirror_mode": {
    "name": "ipython",
    "version": 3
   },
   "file_extension": ".py",
   "mimetype": "text/x-python",
   "name": "python",
   "nbconvert_exporter": "python",
   "pygments_lexer": "ipython3",
   "version": "3.11.3"
  }
 },
 "nbformat": 4,
 "nbformat_minor": 5
}
