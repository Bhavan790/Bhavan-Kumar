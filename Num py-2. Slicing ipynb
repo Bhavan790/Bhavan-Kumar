{
 "cells": [
  {
   "cell_type": "code",
   "execution_count": 3,
   "id": "b3995144-a778-409c-a8d9-b66ee1fcf76e",
   "metadata": {},
   "outputs": [
    {
     "name": "stdout",
     "output_type": "stream",
     "text": [
      "[3 4 5 6]\n"
     ]
    }
   ],
   "source": [
    "import numpy as np\n",
    "arr=np.array([1,2,3,4,5,6,7,8,9])\n",
    "s=arr[2:6]\n",
    "print(s)"
   ]
  },
  {
   "cell_type": "code",
   "execution_count": 24,
   "id": "ee3f15ec-7daf-451c-bebd-579f436cea83",
   "metadata": {},
   "outputs": [
    {
     "name": "stdout",
     "output_type": "stream",
     "text": [
      "[1 3 5 7 9]\n"
     ]
    }
   ],
   "source": [
    "m=arr[::2]\n",
    "print(m)"
   ]
  },
  {
   "cell_type": "code",
   "execution_count": 26,
   "id": "33f5e799-7b81-4498-aee4-229b4add1bdd",
   "metadata": {},
   "outputs": [
    {
     "name": "stdout",
     "output_type": "stream",
     "text": [
      "[9 8 7 6 5 4 3 2 1]\n"
     ]
    }
   ],
   "source": [
    "n=arr[::-1]\n",
    "print(n)"
   ]
  },
  {
   "cell_type": "code",
   "execution_count": 36,
   "id": "5c7879ad-b663-4209-9133-0fb2a082f608",
   "metadata": {},
   "outputs": [
    {
     "name": "stdout",
     "output_type": "stream",
     "text": [
      "[[2 3]\n",
      " [5 6]]\n"
     ]
    }
   ],
   "source": [
    "ar=np.array([[1,2,3],[4,5,6],[7,8,9]])\n",
    "print(ar[0:2,1:3])"
   ]
  },
  {
   "cell_type": "code",
   "execution_count": 45,
   "id": "9506a0f8-3064-4654-9865-3627882e3aa0",
   "metadata": {},
   "outputs": [
    {
     "name": "stdout",
     "output_type": "stream",
     "text": [
      "[1 4 7]\n",
      "[4 5 6]\n"
     ]
    }
   ],
   "source": [
    "print(ar[:,0])\n",
    "print(ar[1,:])"
   ]
  },
  {
   "cell_type": "code",
   "execution_count": 49,
   "id": "53fb0677-e42a-4f9d-836f-b40ae0f31b08",
   "metadata": {},
   "outputs": [
    {
     "name": "stdout",
     "output_type": "stream",
     "text": [
      "1 6\n"
     ]
    }
   ],
   "source": [
    "print(ar[0,0],ar[1,2])"
   ]
  },
  {
   "cell_type": "code",
   "execution_count": 61,
   "id": "c4144865-c11c-4663-8062-f79798f8357c",
   "metadata": {},
   "outputs": [
    {
     "name": "stdout",
     "output_type": "stream",
     "text": [
      "20\n",
      "50\n",
      "[20 30 40]\n"
     ]
    }
   ],
   "source": [
    "ary=np.array([10,20,30,40,50])\n",
    "print(ary[1])\n",
    "print(ary[-1])\n",
    "print(ary[1:4])"
   ]
  },
  {
   "cell_type": "code",
   "execution_count": 65,
   "id": "70368f94-3652-4da6-9a04-e33a4d445daf",
   "metadata": {},
   "outputs": [
    {
     "name": "stdout",
     "output_type": "stream",
     "text": [
      "[30 40 50]\n"
     ]
    }
   ],
   "source": [
    "print(ary[ary>25])"
   ]
  },
  {
   "cell_type": "code",
   "execution_count": 71,
   "id": "619754b9-2365-48b5-a96c-32868c1223fc",
   "metadata": {},
   "outputs": [
    {
     "name": "stdout",
     "output_type": "stream",
     "text": [
      "[[1 2 5 6]\n",
      " [3 4 7 8]]\n",
      "\n",
      "\n",
      "[[1 2]\n",
      " [3 4]\n",
      " [5 6]\n",
      " [7 8]]\n",
      "\n",
      "\n",
      "[[[1 5]\n",
      "  [2 6]]\n",
      "\n",
      " [[3 7]\n",
      "  [4 8]]]\n"
     ]
    }
   ],
   "source": [
    "arr1=np.array([[1,2],[3,4]])\n",
    "arr2=np.array([[5,6],[7,8]])\n",
    "print(np.hstack((arr1,arr2))) # joins horizontaly\n",
    "print(\"\\n\")\n",
    "print(np.vstack((arr1,arr2))) # join vertically \n",
    "print(\"\\n\")\n",
    "print(np.dstack((arr1,arr2))) # join in depth wise level"
   ]
  },
  {
   "cell_type": "code",
   "execution_count": 81,
   "id": "36c347e6-963a-4eb6-9acb-d96ae8a99bcb",
   "metadata": {},
   "outputs": [
    {
     "name": "stdout",
     "output_type": "stream",
     "text": [
      "[array([1, 2, 3]), array([4, 5]), array([6, 7]), array([8, 9])]\n"
     ]
    }
   ],
   "source": [
    "print(np.array_split(arr,4))"
   ]
  },
  {
   "cell_type": "code",
   "execution_count": 4,
   "id": "a9c7be8d",
   "metadata": {},
   "outputs": [
    {
     "name": "stdout",
     "output_type": "stream",
     "text": [
      "[array([[1, 2]]), array([[3, 4]]), array([[5, 6]]), array([[7, 8]])]\n"
     ]
    }
   ],
   "source": [
    "m=np.array([[1,2],[3,4],[5,6],[7,8]])\n",
    "print(np.split(m,4))"
   ]
  }
 ],
 "metadata": {
  "kernelspec": {
   "display_name": "Python 3 (ipykernel)",
   "language": "python",
   "name": "python3"
  },
  "language_info": {
   "codemirror_mode": {
    "name": "ipython",
    "version": 3
   },
   "file_extension": ".py",
   "mimetype": "text/x-python",
   "name": "python",
   "nbconvert_exporter": "python",
   "pygments_lexer": "ipython3",
   "version": "3.11.3"
  }
 },
 "nbformat": 4,
 "nbformat_minor": 5
}
