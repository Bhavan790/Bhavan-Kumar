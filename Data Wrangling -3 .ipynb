{
 "cells": [
  {
   "cell_type": "code",
   "execution_count": 34,
   "id": "2b31a717-4baf-4329-9817-b7c9f5338e5a",
   "metadata": {},
   "outputs": [
    {
     "name": "stdout",
     "output_type": "stream",
     "text": [
      "\n",
      "Original DataFrame:\n",
      "        Brand  Year  Sold\n",
      "0     Maruti  2010     6\n",
      "1     Maruti  2011     7\n",
      "2     Maruti  2009     9\n",
      "3     Maruti  2013     8\n",
      "4    Hyundai  2010     3\n",
      "5    Hyundai  2011     5\n",
      "6     Toyota  2011     2\n",
      "7   Mahindra  2010     8\n",
      "8   Mahindra  2013     7\n",
      "9       Ford  2010     2\n",
      "10    Toyota  2010     4\n",
      "11      Ford  2011     2\n",
      "\n",
      "Group by year 2010:\n",
      "        Brand  Year  Sold\n",
      "0     Maruti  2010     6\n",
      "4    Hyundai  2010     3\n",
      "7   Mahindra  2010     8\n",
      "9       Ford  2010     2\n",
      "10    Toyota  2010     4\n"
     ]
    }
   ],
   "source": [
    "import pandas as pd\n",
    "car_selling_data ={'Brand':['Maruti','Maruti','Maruti','Maruti','Hyundai','Hyundai','Toyota','Mahindra','Mahindra','Ford','Toyota','Ford'],\n",
    "'Year':[2010, 2011, 2009, 2013, 2010, 2011, 2011, 2010, 2013, 2010, 2010, 2011],\n",
    "'Sold':[6, 7, 9, 8, 3, 5,2, 8, 7, 2, 4, 2]}\n",
    "df = pd. DataFrame(car_selling_data)\n",
    "print(\"\\nOriginal DataFrame:\\n\",df)\n",
    "grouped = df.groupby('Year')\n",
    "print(\"\\nGroup by year 2010:\\n\",grouped.get_group(2010))"
   ]
  },
  {
   "cell_type": "code",
   "execution_count": 36,
   "id": "4c669e3f-12d4-49e1-a483-8128d5c59b26",
   "metadata": {},
   "outputs": [
    {
     "name": "stdout",
     "output_type": "stream",
     "text": [
      "\n",
      "Original DataFrame:\n",
      "         Name  Roll_no                 Email\n",
      "0       Amit       23        xxxx@gmail.com\n",
      "1    Praveen       54      xxxxxx@gmail.com\n",
      "2   Jagadesh       29      xxxxxx@gmail.com\n",
      "3      Rahul       36          xx@gmail.com\n",
      "4     Vishal       23        xxxx@gmail.com\n",
      "5      Suraj       38       xxxxx@gmail.com\n",
      "6     Rishab       12       xxxxx@gmail.com\n",
      "7    Sathish       45       xxxxx@gmail.com\n",
      "8       Amit       34       xxxxx@gmail.com\n",
      "9      Rahul       36      xxxxxx@gmail.com\n",
      "10   Praveen       54  xxxxxxxxxx@gmail.com\n",
      "11      Amit       23  xxxxxxxxxx@gmail.com\n",
      "\n",
      "Removed duplicated rows:\n",
      "        Name  Roll_no             Email\n",
      "0      Amit       23    xxxx@gmail.com\n",
      "1   Praveen       54  xxxxxx@gmail.com\n",
      "2  Jagadesh       29  xxxxxx@gmail.com\n",
      "3     Rahul       36      xx@gmail.com\n",
      "5     Suraj       38   xxxxx@gmail.com\n",
      "6    Rishab       12   xxxxx@gmail.com\n",
      "7   Sathish       45   xxxxx@gmail.com\n",
      "8      Amit       34   xxxxx@gmail.com\n"
     ]
    }
   ],
   "source": [
    "student_data = {'Name': ['Amit', 'Praveen', 'Jagadesh','Rahul', 'Vishal', 'Suraj','Rishab', 'Sathish',\n",
    "'Amit','Rahul', 'Praveen', 'Amit'],\n",
    "'Roll_no': [23,54,29,36,23,38,12,45,34,36,54,23],\n",
    "'Email': ['xxxx@gmail.com', 'xxxxxx@gmail.com','xxxxxx@gmail.com','xx@gmail.com',\n",
    "'xxxx@gmail.com', 'xxxxx@gmail.com','xxxxx@gmail.com', 'xxxxx@gmail.com',\n",
    "'xxxxx@gmail.com', 'xxxxxx@gmail.com','xxxxxxxxxx@gmail.com',\n",
    "'xxxxxxxxxx@gmail.com']}\n",
    "df=pd.DataFrame(student_data)\n",
    "print(\"\\nOriginal DataFrame:\\n\",df)\n",
    "non_duplicate = df[~df.duplicated('Roll_no')]\n",
    "print(\"\\nRemoved duplicated rows:\\n\",non_duplicate)"
   ]
  },
  {
   "cell_type": "code",
   "execution_count": 26,
   "id": "c4f6ed72-c372-4909-80b6-5652189e5195",
   "metadata": {},
   "outputs": [
    {
     "name": "stdout",
     "output_type": "stream",
     "text": [
      "\n",
      "Filtering and Dropping func:\n",
      "         Name Gender  Marks\n",
      "0        Sai      M   90.0\n",
      "1    Yuvasri      F   76.0\n",
      "2  Poovannan      M   75.2\n",
      "5    Rithika      F   75.2\n"
     ]
    }
   ],
   "source": [
    "details=pd.DataFrame({'ID':[101, 102, 103, 104, 105, 106, 107, 108, 109, 110],\n",
    "'NAME':['Arun', 'Praveen', 'Harish','Pooja', 'Rahul', 'Naresh','Saurabh','Anush','Dinesh',\n",
    "'Mohit'],\n",
    "\n",
    "'BRANCH':['Mech', 'Mech', 'CSE', 'CSE', 'CSE', 'EEE','EEE', 'ECE', 'ECE', 'IT']})\n",
    "print(\"\\nOriginal DataFrame 1:\\n\", details)\n",
    "#creating datafram\n",
    "fees_status=pd.DataFrame ({'ID': [101, 102, 103, 104, 105, 106, 107, 108, 109, 110],\n",
    "'PENDING': ['5000', '250', 'NIL', '9000', '15000', 'NIL', '4500', '1800', '250', 'NIL']})\n",
    "print(\"\\nOriginal DataFrame:\\n\", fees_status)\n",
    "#mergind dataframe\n",
    "print(\"\\nMerged Dataframe\\n\",pd.merge(details,fees_status,on='ID'))"
   ]
  },
  {
   "cell_type": "code",
   "execution_count": 16,
   "id": "8453ecaa-0937-4656-9f67-811bd4b1d05e",
   "metadata": {},
   "outputs": [
    {
     "name": "stdout",
     "output_type": "stream",
     "text": [
      "\n",
      "Original DataFrame 1:\n",
      "       Name subject_id  Marks_scored\n",
      "1      Sai       sub1            98\n",
      "2      Sub       sub2            95\n",
      "3      Poo       sub4            96\n",
      "4  Yuvasri       sub6            92\n",
      "5  Rithika       sub5            88\n",
      "\n",
      "Original DataFrame 2:\n",
      "           Name subject_id  Marks_scored\n",
      "1       Sanjay       sub2            86\n",
      "2  Sangamithra       sub4            95\n",
      "3      Rubasri       sub3            87\n",
      "4       Nikesh       sub6            99\n",
      "5     Somanath       sub5            91\n",
      "          Name subject_id  Marks_scored\n",
      "1          Sai       sub1            98\n",
      "2          Sub       sub2            95\n",
      "3          Poo       sub4            96\n",
      "4      Yuvasri       sub6            92\n",
      "5      Rithika       sub5            88\n",
      "1       Sanjay       sub2            86\n",
      "2  Sangamithra       sub4            95\n",
      "3      Rubasri       sub3            87\n",
      "4       Nikesh       sub6            99\n",
      "5     Somanath       sub5            91\n"
     ]
    }
   ],
   "source": [
    "one = pd.DataFrame({\n",
    "'Name':['Sai','Sub','Poo','Yuvasri','Rithika'],\n",
    "'subject_id':['sub1','sub2','sub4','sub6','sub5'],\n",
    "'Marks_scored':[98,95,96,92,88]},\n",
    "index=[1,2,3,4,5])\n",
    "two=pd.DataFrame({\n",
    "'Name':['Sanjay','Sangamithra','Rubasri','Nikesh','Somanath'],\n",
    "'subject_id':['sub2','sub4','sub3','sub6','sub5'],\n",
    "'Marks_scored':[86,95,87,99,91]},\n",
    "index=[1,2,3,4,5])\n",
    "print(\"\\nOriginal DataFrame 1:\\n\",one)\n",
    "print(\"\\nOriginal DataFrame 2:\\n\",two)\n",
    "print(pd.concat([one,two]))"
   ]
  },
  {
   "cell_type": "code",
   "execution_count": null,
   "id": "6e3b738a-44b1-4c5b-b919-50388ba58b21",
   "metadata": {},
   "outputs": [],
   "source": []
  }
 ],
 "metadata": {
  "kernelspec": {
   "display_name": "Python [conda env:base] *",
   "language": "python",
   "name": "conda-base-py"
  },
  "language_info": {
   "codemirror_mode": {
    "name": "ipython",
    "version": 3
   },
   "file_extension": ".py",
   "mimetype": "text/x-python",
   "name": "python",
   "nbconvert_exporter": "python",
   "pygments_lexer": "ipython3",
   "version": "3.12.2"
  }
 },
 "nbformat": 4,
 "nbformat_minor": 5
}
