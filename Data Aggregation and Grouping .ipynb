{
 "cells": [
  {
   "cell_type": "code",
   "execution_count": 36,
   "id": "d8946303-dc98-4648-a807-c91c2fdfa5ed",
   "metadata": {},
   "outputs": [
    {
     "name": "stdout",
     "output_type": "stream",
     "text": [
      "       A      B  C  D  E\n",
      "0    sai    one  1  4  4\n",
      "1   sube    two  0  1  0\n",
      "2  divya  three  2  1  3\n",
      "3   yuvi    one  2  2  4\n",
      "4  rithi  three  1  4  1\n",
      "5  sangi    two  4  3  2\n"
     ]
    }
   ],
   "source": [
    "import pandas as pd\n",
    "import numpy as np\n",
    "a=pd.DataFrame({'A' : ['sai','sube','divya','yuvi','rithi','sangi'],'B' : ['one','two','three','one','three','two'],'C' : np.random.randint(5,size=6),'D' : np.random.randint(5,size=6),'E' : np.random.randint(5,size=6)})\n",
    "print(a)"
   ]
  },
  {
   "cell_type": "code",
   "execution_count": 38,
   "id": "3e808357-9780-459a-adf5-a5dd5d7e4a86",
   "metadata": {},
   "outputs": [
    {
     "name": "stdout",
     "output_type": "stream",
     "text": [
      "       A      B  C  D\n",
      "0    sai    one  3  0\n",
      "1    poo    two  3  4\n",
      "2    sub  three  3  4\n",
      "3   yuvi    one  0  3\n",
      "4  rithi  three  1  4\n",
      "5  sangu    two  1  1\n",
      "6    sai    one  0  3\n",
      "7    poo    two  3  1\n",
      "       A  C\n",
      "0    poo  6\n",
      "1  rithi  1\n",
      "2    sai  3\n",
      "3  sangu  1\n",
      "4    sub  3\n",
      "5   yuvi  0\n"
     ]
    }
   ],
   "source": [
    "import pandas as pd\n",
    "import numpy as np\n",
    "df=pd.DataFrame({'A':['sai','poo','sub','yuvi','rithi','sangu','sai','poo'],'B':['one','two','three','one','three','two','one','two'],'C':np.random.randint(5,size=8),'D':np.random.randint(5,size=8)})\n",
    "print(df)\n",
    "df1=df.groupby('A', as_index=False)['C'].sum()\n",
    "print(df1)"
   ]
  },
  {
   "cell_type": "code",
   "execution_count": 40,
   "id": "4b203367-5961-40d9-ba43-cb683ab05d46",
   "metadata": {},
   "outputs": [
    {
     "name": "stdout",
     "output_type": "stream",
     "text": [
      "       A      B  C\n",
      "0    poo    two  6\n",
      "1  rithi  three  1\n",
      "2    sai    one  3\n",
      "3  sangu    two  1\n",
      "4    sub  three  3\n",
      "5   yuvi    one  0\n"
     ]
    }
   ],
   "source": [
    "df2=df.groupby(['A','B'], as_index=False)['C'].sum()\n",
    "print(df2)"
   ]
  },
  {
   "cell_type": "code",
   "execution_count": 52,
   "id": "10e40640-64e1-4521-a445-790faad073af",
   "metadata": {},
   "outputs": [
    {
     "name": "stdout",
     "output_type": "stream",
     "text": [
      "  Category  Sales  Profit\n",
      "0        A    100      10\n",
      "1        B    200      15\n",
      "2        C    150      20\n",
      "3        A    150      25\n",
      "4        B    130      30\n",
      "5        C    200      15\n"
     ]
    }
   ],
   "source": [
    "import pandas as pd\n",
    "import numpy as np\n",
    "a=pd.DataFrame({'Category' : [ 'A','B','C','A','B','C'] , 'Sales' : [100,200,150,150,130,200] , 'Profit' : [10,15,20,25,30,15]})\n",
    "print(a)"
   ]
  },
  {
   "cell_type": "code",
   "execution_count": 54,
   "id": "b2ae8757-e907-4a5d-8a4b-924d12e4a820",
   "metadata": {},
   "outputs": [
    {
     "name": "stdout",
     "output_type": "stream",
     "text": [
      "         Sales        Profit    \n",
      "           sum   mean    sum max\n",
      "Category                        \n",
      "A          250  125.0     35  25\n",
      "B          330  165.0     45  30\n",
      "C          350  175.0     35  20\n"
     ]
    }
   ],
   "source": [
    "b = a.groupby('Category').agg({'Sales': ['sum', 'mean'], 'Profit': ['sum', 'max']})\n",
    "print(b)"
   ]
  },
  {
   "cell_type": "code",
   "execution_count": null,
   "id": "fddcebca-24d4-4695-a77d-9a0857908e93",
   "metadata": {},
   "outputs": [],
   "source": []
  }
 ],
 "metadata": {
  "kernelspec": {
   "display_name": "Python [conda env:base] *",
   "language": "python",
   "name": "conda-base-py"
  },
  "language_info": {
   "codemirror_mode": {
    "name": "ipython",
    "version": 3
   },
   "file_extension": ".py",
   "mimetype": "text/x-python",
   "name": "python",
   "nbconvert_exporter": "python",
   "pygments_lexer": "ipython3",
   "version": "3.12.2"
  }
 },
 "nbformat": 4,
 "nbformat_minor": 5
}
